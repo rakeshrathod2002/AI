{
 "cells": [
  {
   "cell_type": "markdown",
   "id": "7daa2004",
   "metadata": {},
   "source": [
    "RATHLAVATH RAKESH  \n",
    "20K45A0222"
   ]
  },
  {
   "cell_type": "markdown",
   "id": "d1725190",
   "metadata": {},
   "source": [
    "# import libraries"
   ]
  },
  {
   "cell_type": "code",
   "execution_count": 1,
   "id": "cf6a6d6e",
   "metadata": {},
   "outputs": [],
   "source": [
    "import numpy as np\n",
    "import math as mt\n",
    "import random\n",
    "import pandas as pd\n",
    "import matplotlib.pyplot as plt"
   ]
  },
  {
   "cell_type": "markdown",
   "id": "3a3d80bf",
   "metadata": {},
   "source": [
    "# load data\n"
   ]
  },
  {
   "cell_type": "code",
   "execution_count": 2,
   "id": "7f2bd1f9",
   "metadata": {},
   "outputs": [
    {
     "data": {
      "text/html": [
       "<div>\n",
       "<style scoped>\n",
       "    .dataframe tbody tr th:only-of-type {\n",
       "        vertical-align: middle;\n",
       "    }\n",
       "\n",
       "    .dataframe tbody tr th {\n",
       "        vertical-align: top;\n",
       "    }\n",
       "\n",
       "    .dataframe thead th {\n",
       "        text-align: right;\n",
       "    }\n",
       "</style>\n",
       "<table border=\"1\" class=\"dataframe\">\n",
       "  <thead>\n",
       "    <tr style=\"text-align: right;\">\n",
       "      <th></th>\n",
       "      <th>X</th>\n",
       "      <th>Y</th>\n",
       "    </tr>\n",
       "  </thead>\n",
       "  <tbody>\n",
       "    <tr>\n",
       "      <th>0</th>\n",
       "      <td>7.6</td>\n",
       "      <td>157</td>\n",
       "    </tr>\n",
       "    <tr>\n",
       "      <th>1</th>\n",
       "      <td>7.1</td>\n",
       "      <td>174</td>\n",
       "    </tr>\n",
       "    <tr>\n",
       "      <th>2</th>\n",
       "      <td>8.2</td>\n",
       "      <td>175</td>\n",
       "    </tr>\n",
       "    <tr>\n",
       "      <th>3</th>\n",
       "      <td>7.5</td>\n",
       "      <td>188</td>\n",
       "    </tr>\n",
       "    <tr>\n",
       "      <th>4</th>\n",
       "      <td>7.4</td>\n",
       "      <td>171</td>\n",
       "    </tr>\n",
       "  </tbody>\n",
       "</table>\n",
       "</div>"
      ],
      "text/plain": [
       "     X    Y\n",
       "0  7.6  157\n",
       "1  7.1  174\n",
       "2  8.2  175\n",
       "3  7.5  188\n",
       "4  7.4  171"
      ]
     },
     "execution_count": 2,
     "metadata": {},
     "output_type": "execute_result"
    }
   ],
   "source": [
    "data = pd.read_csv(\"slr09 (2).csv\")\n",
    "data.head()"
   ]
  },
  {
   "cell_type": "code",
   "execution_count": 3,
   "id": "654cb08e",
   "metadata": {},
   "outputs": [],
   "source": [
    "X = data['X'].values\n",
    "y = data['Y'].values"
   ]
  },
  {
   "cell_type": "code",
   "execution_count": 4,
   "id": "7468b8db",
   "metadata": {},
   "outputs": [
    {
     "data": {
      "image/png": "[encoded data removed]",
      "text/plain": [
       "<Figure size 432x288 with 1 Axes>"
      ]
     },
     "metadata": {
      "needs_background": "light"
     },
     "output_type": "display_data"
    }
   ],
   "source": [
    "plt.scatter(X, y, color = 'blue', label='Scatter Plot')\n",
    "plt.title('Relationship between X and Y')\n",
    "plt.xlabel('X')\n",
    "plt.ylabel('Y')\n",
    "plt.legend(loc=1)\n",
    "plt.show()\n"
   ]
  },
  {
   "cell_type": "code",
   "execution_count": 5,
   "id": "5c0f23a4",
   "metadata": {},
   "outputs": [],
   "source": [
    "X = X.reshape(-1,1)\n",
    "y = y.reshape(-1,1)"
   ]
  },
  {
   "cell_type": "markdown",
   "id": "21a843b9",
   "metadata": {},
   "source": [
    "# data split"
   ]
  },
  {
   "cell_type": "code",
   "execution_count": 6,
   "id": "0defaa4e",
   "metadata": {},
   "outputs": [],
   "source": [
    "from sklearn.model_selection import train_test_split\n",
    "X_train,X_test,y_train,y_test = train_test_split(X, y, test_size=0.33, random_state=42)"
   ]
  },
  {
   "cell_type": "markdown",
   "id": "c875a3b6",
   "metadata": {},
   "source": [
    "# Model Training"
   ]
  },
  {
   "cell_type": "code",
   "execution_count": 7,
   "id": "28d672fb",
   "metadata": {},
   "outputs": [
    {
     "data": {
      "text/plain": [
       "LinearRegression()"
      ]
     },
     "execution_count": 7,
     "metadata": {},
     "output_type": "execute_result"
    }
   ],
   "source": [
    "from sklearn.linear_model import LinearRegression\n",
    "lm = LinearRegression()\n",
    "lm.fit(X_train,y_train)"
   ]
  },
  {
   "cell_type": "code",
   "execution_count": 8,
   "id": "555ac3d9",
   "metadata": {},
   "outputs": [
    {
     "name": "stdout",
     "output_type": "stream",
     "text": [
      "Estimated model slope, m: [[-20.66754967]]\n",
      "Estimated model intercept, c: (array([301.00370861]),)\n"
     ]
    }
   ],
   "source": [
    "m = lm.coef_\n",
    "c = lm.intercept_,\n",
    "print(\"Estimated model slope, m:\" , m)\n",
    "print(\"Estimated model intercept, c:\" , c)"
   ]
  },
  {
   "cell_type": "markdown",
   "id": "cfea37e5",
   "metadata": {},
   "source": [
    "# Model prediction with training and testing data"
   ]
  },
  {
   "cell_type": "code",
   "execution_count": 9,
   "id": "e9bd865b",
   "metadata": {},
   "outputs": [],
   "source": [
    "y_pred_train=lm.predict(X_train)\n",
    "y_pred_test=lm.predict(X_test)"
   ]
  },
  {
   "cell_type": "code",
   "execution_count": 10,
   "id": "90dcc8a3",
   "metadata": {},
   "outputs": [
    {
     "data": {
      "image/png": "[encoded data removed]",
      "text/plain": [
       "<Figure size 432x288 with 1 Axes>"
      ]
     },
     "metadata": {
      "needs_background": "light"
     },
     "output_type": "display_data"
    }
   ],
   "source": [
    "plt.scatter(X_test, y_test, color = 'blue', label='Scatter Plot')\n",
    "plt.plot(X_test, y_pred_test, color = 'black', linewidth=3, label = 'Regression Line')\n",
    "plt.title('Relationship between X and Y')\n",
    "plt.xlabel('X')\n",
    "plt.ylabel('Y')\n",
    "plt.legend(loc=4)\n",
    "plt.show()\n"
   ]
  },
  {
   "cell_type": "code",
   "execution_count": 11,
   "id": "fe9e6b20",
   "metadata": {},
   "outputs": [
    {
     "data": {
      "image/png": "[encoded data removed]",
      "text/plain": [
       "<Figure size 432x288 with 1 Axes>"
      ]
     },
     "metadata": {
      "needs_background": "light"
     },
     "output_type": "display_data"
    }
   ],
   "source": [
    "plt.scatter(X_train, y_train, color = 'blue', label='Scatter Plot')\n",
    "plt.plot(X_train, y_pred_train, color = 'black', linewidth=3, label = 'Regression Line')\n",
    "plt.title('Relationship between X and Y')\n",
    "plt.xlabel('X')\n",
    "plt.ylabel('Y')\n",
    "plt.legend(loc=4)\n",
    "plt.show()"
   ]
  },
  {
   "cell_type": "markdown",
   "id": "49386764",
   "metadata": {},
   "source": [
    "# Error matrics"
   ]
  },
  {
   "cell_type": "code",
   "execution_count": 12,
   "id": "1ac4b692",
   "metadata": {},
   "outputs": [
    {
     "name": "stdout",
     "output_type": "stream",
     "text": [
      "Root mean square error 51.377181103186\n",
      "Mean square error 2639.614738109572\n",
      "Mean absolute error 45.4699819385912\n"
     ]
    }
   ],
   "source": [
    "import math\n",
    "from sklearn.metrics import mean_squared_error \n",
    "from sklearn.metrics import mean_absolute_error\n",
    "\n",
    "\n",
    "#Training Accuracies\n",
    "rmse = math.sqrt(mean_squared_error(y_train, y_pred_train)) \n",
    "print('Root mean square error', rmse) \n",
    "mse = (mean_squared_error(y_train, y_pred_train)) \n",
    "print('Mean square error', mse) \n",
    "mae=mean_absolute_error(y_train, y_pred_train)\n",
    "print('Mean absolute error', mae)"
   ]
  },
  {
   "cell_type": "code",
   "execution_count": 13,
   "id": "38acf60f",
   "metadata": {},
   "outputs": [
    {
     "name": "stdout",
     "output_type": "stream",
     "text": [
      "Root mean square error 54.17636201481941\n",
      "Mean square error 2935.0782011607675\n",
      "Mean absolute error 43.72823399558498\n"
     ]
    }
   ],
   "source": [
    "#Training Accuracies\n",
    "rmse = math.sqrt(mean_squared_error(y_test, y_pred_test)) \n",
    "print('Root mean square error', rmse) \n",
    "mse = (mean_squared_error(y_test, y_pred_test)) \n",
    "print('Mean square error', mse) \n",
    "mae=mean_absolute_error(y_test, y_pred_test)\n",
    "print('Mean absolute error', mae)"
   ]
  },
  {
   "cell_type": "code",
   "execution_count": 14,
   "id": "4f67c5ac",
   "metadata": {},
   "outputs": [
    {
     "name": "stdout",
     "output_type": "stream",
     "text": [
      "Training set score: 0.0364829290100116\n",
      "Test set score: 0.16968793213886402\n"
     ]
    }
   ],
   "source": [
    "# Checking for Overfitting or Underfitting the data\n",
    "\n",
    "print(\"Training set score:\",lm.score(X_train,y_train))\n",
    "\n",
    "print(\"Test set score:\",lm.score(X_test,y_test))"
   ]
  },
  {
   "cell_type": "markdown",
   "id": "4586b9ce",
   "metadata": {},
   "source": [
    "# save model for Deployment"
   ]
  },
  {
   "cell_type": "code",
   "execution_count": 15,
   "id": "e0b2a56d",
   "metadata": {},
   "outputs": [],
   "source": [
    "import pickle\n",
    "# Save the model\n",
    "filename = 'model.pkl'\n",
    "pickle.dump(lm, open(filename, 'wb'))"
   ]
  },
  {
   "cell_type": "markdown",
   "id": "d0c788d9",
   "metadata": {},
   "source": [
    "# Deployment"
   ]
  },
  {
   "cell_type": "code",
   "execution_count": 16,
   "id": "a88233d0",
   "metadata": {},
   "outputs": [
    {
     "name": "stdout",
     "output_type": "stream",
     "text": [
      "ph level 11.0\n",
      "Bicarbonates [[73.66066225]]\n"
     ]
    }
   ],
   "source": [
    "user_ip=input('enter ph level ')\n",
    "adv=np.array(float(user_ip))\n",
    "adv=adv.reshape(-1,1)\n",
    "sales=lm.predict(adv)\n",
    "print('ph level',float(user_ip))\n",
    "print('Bicarbonates',sales)"
   ]
  },
  {
   "cell_type": "code",
   "execution_count": 17,
   "id": "7770a10e",
   "metadata": {},
   "outputs": [
    {
     "name": "stdout",
     "output_type": "stream",
     "text": [
      "ph level 11.0\n",
      "Bicarbonates [73.66066225]\n"
     ]
    }
   ],
   "source": [
    "model = pickle.load(open('model.pkl', 'rb'))\n",
    "user_ip=input('enter ph level ')\n",
    "adv=np.array(float(user_ip))\n",
    "adv=adv.reshape(-1,1)\n",
    "prediction = model.predict(adv)\n",
    "result = prediction[0]\n",
    "print('ph level',float(user_ip))\n",
    "print('Bicarbonates',result)"
   ]
  }
 ],
 "metadata": {
  "interpreter": {
   "hash": "469af8a7d4f47233c43ed03f79c77def93ebd9cc35670f36241d40c58b2b804e"
  },
  "kernelspec": {
   "display_name": "Python 3.8.8 64-bit ('base': conda)",
   "name": "python3"
  },
  "language_info": {
   "codemirror_mode": {
    "name": "ipython",
    "version": 3
   },
   "file_extension": ".py",
   "mimetype": "text/x-python",
   "name": "python",
   "nbconvert_exporter": "python",
   "pygments_lexer": "ipython3",
   "version": "3.8.8"
  }
 },
 "nbformat": 4,
 "nbformat_minor": 5
}
