{
 "cells": [
  {
   "cell_type": "markdown",
   "id": "455469d6",
   "metadata": {},
   "source": [
    "#  Importing libraries"
   ]
  },
  {
   "cell_type": "code",
   "execution_count": 5,
   "id": "0e0e3f60",
   "metadata": {},
   "outputs": [],
   "source": [
    "import numpy as np\n",
    "import pandas as pd\n",
    "import matplotlib.pyplot as plt\n",
    "from sklearn.linear_model import LinearRegression\n",
    "from sklearn.model_selection import train_test_split\n",
    "from sklearn.metrics import mean_squared_error\n",
    "import seaborn as sns"
   ]
  },
  {
   "cell_type": "markdown",
   "id": "b28e3660",
   "metadata": {},
   "source": [
    "# Loading Data\n"
   ]
  },
  {
   "cell_type": "code",
   "execution_count": 11,
   "id": "0d6692a2",
   "metadata": {},
   "outputs": [
    {
     "data": {
      "text/html": [
       "<div>\n",
       "<style scoped>\n",
       "    .dataframe tbody tr th:only-of-type {\n",
       "        vertical-align: middle;\n",
       "    }\n",
       "\n",
       "    .dataframe tbody tr th {\n",
       "        vertical-align: top;\n",
       "    }\n",
       "\n",
       "    .dataframe thead th {\n",
       "        text-align: right;\n",
       "    }\n",
       "</style>\n",
       "<table border=\"1\" class=\"dataframe\">\n",
       "  <thead>\n",
       "    <tr style=\"text-align: right;\">\n",
       "      <th></th>\n",
       "      <th>L(t-3)</th>\n",
       "      <th>L(t-2)</th>\n",
       "      <th>L(t-1)</th>\n",
       "      <th>L(t)</th>\n",
       "    </tr>\n",
       "  </thead>\n",
       "  <tbody>\n",
       "    <tr>\n",
       "      <th>2174</th>\n",
       "      <td>5949.93960</td>\n",
       "      <td>5658.44400</td>\n",
       "      <td>5315.50800</td>\n",
       "      <td>5294.62008</td>\n",
       "    </tr>\n",
       "    <tr>\n",
       "      <th>2175</th>\n",
       "      <td>5658.44400</td>\n",
       "      <td>5315.50800</td>\n",
       "      <td>5294.62008</td>\n",
       "      <td>5045.52384</td>\n",
       "    </tr>\n",
       "    <tr>\n",
       "      <th>2176</th>\n",
       "      <td>5315.50800</td>\n",
       "      <td>5294.62008</td>\n",
       "      <td>5045.52384</td>\n",
       "      <td>4626.51840</td>\n",
       "    </tr>\n",
       "    <tr>\n",
       "      <th>2177</th>\n",
       "      <td>5294.62008</td>\n",
       "      <td>5045.52384</td>\n",
       "      <td>4626.51840</td>\n",
       "      <td>4567.90752</td>\n",
       "    </tr>\n",
       "    <tr>\n",
       "      <th>2178</th>\n",
       "      <td>5045.52384</td>\n",
       "      <td>4626.51840</td>\n",
       "      <td>4567.90752</td>\n",
       "      <td>4723.63164</td>\n",
       "    </tr>\n",
       "  </tbody>\n",
       "</table>\n",
       "</div>"
      ],
      "text/plain": [
       "          L(t-3)      L(t-2)      L(t-1)        L(t)\n",
       "2174  5949.93960  5658.44400  5315.50800  5294.62008\n",
       "2175  5658.44400  5315.50800  5294.62008  5045.52384\n",
       "2176  5315.50800  5294.62008  5045.52384  4626.51840\n",
       "2177  5294.62008  5045.52384  4626.51840  4567.90752\n",
       "2178  5045.52384  4626.51840  4567.90752  4723.63164"
      ]
     },
     "execution_count": 11,
     "metadata": {},
     "output_type": "execute_result"
    }
   ],
   "source": [
    "dataset = pd.read_csv('load_data.csv1.csv')\n",
    "dataset = dataset.rename(columns={\n",
    "    'X1':'L(t-3)',\n",
    "    'X2':'L(t-2)',\n",
    "    'X3':'L(t-1)',\n",
    "    'Y' :'L(t)'   \n",
    "})\n",
    "dataset.tail()"
   ]
  },
  {
   "cell_type": "code",
   "execution_count": 12,
   "id": "c3c4c2c4",
   "metadata": {},
   "outputs": [
    {
     "data": {
      "text/plain": [
       "L(t-3)    0\n",
       "L(t-2)    0\n",
       "L(t-1)    0\n",
       "L(t)      0\n",
       "dtype: int64"
      ]
     },
     "execution_count": 12,
     "metadata": {},
     "output_type": "execute_result"
    }
   ],
   "source": [
    "dataset.isnull().sum()"
   ]
  },
  {
   "cell_type": "markdown",
   "id": "bcd83ed0",
   "metadata": {},
   "source": [
    "# Detecting Outliers"
   ]
  },
  {
   "cell_type": "code",
   "execution_count": 14,
   "id": "bf0abe62",
   "metadata": {},
   "outputs": [
    {
     "name": "stdout",
     "output_type": "stream",
     "text": [
      "Outliers in 'L(t-3)' column from Z-scores method: 0\n",
      "Outliers in 'L(t-2)' column from Z-scores method: 0\n",
      "Outliers in 'L(t-1)' column from Z-scores method: 0\n",
      "Outliers in 'L(t)' column from Z-scores method: 0\n"
     ]
    }
   ],
   "source": [
    "outliers = []\n",
    "def detect_outliers_zscore(dataset):\n",
    "    thres = 3\n",
    "    mean = np.mean(dataset)\n",
    "    std = np.std(dataset)\n",
    "    # print(mean, std)\n",
    "    for i in dataset:\n",
    "        z_score = (i-mean)/std\n",
    "        if (np.abs(z_score) > thres):\n",
    "            outliers.append(i)\n",
    "    return outliers\n",
    "\n",
    "sample_outliers_X1 = detect_outliers_zscore(dataset['L(t-3)'])\n",
    "sample_outliers_X2 = detect_outliers_zscore(dataset['L(t-2)'])\n",
    "sample_outliers_X3 = detect_outliers_zscore(dataset['L(t-1)'])\n",
    "sample_outliers_Y = detect_outliers_zscore(dataset['L(t)'])\n",
    "\n",
    "print(f\"Outliers in '{dataset.columns[0]}' column from Z-scores method: {len(sample_outliers_X1)}\")\n",
    "print(f\"Outliers in '{dataset.columns[1]}' column from Z-scores method: {len(sample_outliers_X2)}\")\n",
    "print(f\"Outliers in '{dataset.columns[2]}' column from Z-scores method: {len(sample_outliers_X3)}\")\n",
    "\n",
    "print(f\"Outliers in '{dataset.columns[3]}' column from Z-scores method: {len(sample_outliers_Y)}\")"
   ]
  },
  {
   "cell_type": "markdown",
   "id": "93244b2d",
   "metadata": {},
   "source": [
    "# Data split"
   ]
  },
  {
   "cell_type": "code",
   "execution_count": 15,
   "id": "d0079a49",
   "metadata": {},
   "outputs": [],
   "source": [
    "from sklearn.model_selection import train_test_split\n",
    "df_train, df_test = train_test_split(dataset, train_size = 0.9, test_size = 0.1, random_state = 100)"
   ]
  },
  {
   "cell_type": "markdown",
   "id": "12f40f4b",
   "metadata": {},
   "source": [
    "# Data Normalising"
   ]
  },
  {
   "cell_type": "code",
   "execution_count": 17,
   "id": "861f5ad7",
   "metadata": {},
   "outputs": [
    {
     "data": {
      "text/html": [
       "<div>\n",
       "<style scoped>\n",
       "    .dataframe tbody tr th:only-of-type {\n",
       "        vertical-align: middle;\n",
       "    }\n",
       "\n",
       "    .dataframe tbody tr th {\n",
       "        vertical-align: top;\n",
       "    }\n",
       "\n",
       "    .dataframe thead th {\n",
       "        text-align: right;\n",
       "    }\n",
       "</style>\n",
       "<table border=\"1\" class=\"dataframe\">\n",
       "  <thead>\n",
       "    <tr style=\"text-align: right;\">\n",
       "      <th></th>\n",
       "      <th>L(t-3)</th>\n",
       "      <th>L(t-2)</th>\n",
       "      <th>L(t-1)</th>\n",
       "      <th>L(t)</th>\n",
       "    </tr>\n",
       "  </thead>\n",
       "  <tbody>\n",
       "    <tr>\n",
       "      <th>1383</th>\n",
       "      <td>0.435537</td>\n",
       "      <td>0.429973</td>\n",
       "      <td>0.349947</td>\n",
       "      <td>0.308408</td>\n",
       "    </tr>\n",
       "    <tr>\n",
       "      <th>1087</th>\n",
       "      <td>0.467062</td>\n",
       "      <td>0.445294</td>\n",
       "      <td>0.520955</td>\n",
       "      <td>0.467604</td>\n",
       "    </tr>\n",
       "    <tr>\n",
       "      <th>704</th>\n",
       "      <td>0.628770</td>\n",
       "      <td>0.919517</td>\n",
       "      <td>0.935209</td>\n",
       "      <td>0.935209</td>\n",
       "    </tr>\n",
       "    <tr>\n",
       "      <th>1800</th>\n",
       "      <td>0.404839</td>\n",
       "      <td>0.353970</td>\n",
       "      <td>0.322302</td>\n",
       "      <td>0.301275</td>\n",
       "    </tr>\n",
       "    <tr>\n",
       "      <th>775</th>\n",
       "      <td>0.206157</td>\n",
       "      <td>0.497275</td>\n",
       "      <td>0.507118</td>\n",
       "      <td>0.317994</td>\n",
       "    </tr>\n",
       "    <tr>\n",
       "      <th>...</th>\n",
       "      <td>...</td>\n",
       "      <td>...</td>\n",
       "      <td>...</td>\n",
       "      <td>...</td>\n",
       "    </tr>\n",
       "    <tr>\n",
       "      <th>350</th>\n",
       "      <td>0.734359</td>\n",
       "      <td>0.956264</td>\n",
       "      <td>0.960315</td>\n",
       "      <td>0.938347</td>\n",
       "    </tr>\n",
       "    <tr>\n",
       "      <th>1930</th>\n",
       "      <td>0.721320</td>\n",
       "      <td>0.594648</td>\n",
       "      <td>0.249465</td>\n",
       "      <td>0.331802</td>\n",
       "    </tr>\n",
       "    <tr>\n",
       "      <th>79</th>\n",
       "      <td>0.734359</td>\n",
       "      <td>0.698240</td>\n",
       "      <td>0.555476</td>\n",
       "      <td>0.564891</td>\n",
       "    </tr>\n",
       "    <tr>\n",
       "      <th>1859</th>\n",
       "      <td>0.753188</td>\n",
       "      <td>0.506519</td>\n",
       "      <td>0.297338</td>\n",
       "      <td>0.332801</td>\n",
       "    </tr>\n",
       "    <tr>\n",
       "      <th>1544</th>\n",
       "      <td>0.448775</td>\n",
       "      <td>0.458189</td>\n",
       "      <td>0.759465</td>\n",
       "      <td>0.886879</td>\n",
       "    </tr>\n",
       "  </tbody>\n",
       "</table>\n",
       "<p>1961 rows × 4 columns</p>\n",
       "</div>"
      ],
      "text/plain": [
       "        L(t-3)    L(t-2)    L(t-1)      L(t)\n",
       "1383  0.435537  0.429973  0.349947  0.308408\n",
       "1087  0.467062  0.445294  0.520955  0.467604\n",
       "704   0.628770  0.919517  0.935209  0.935209\n",
       "1800  0.404839  0.353970  0.322302  0.301275\n",
       "775   0.206157  0.497275  0.507118  0.317994\n",
       "...        ...       ...       ...       ...\n",
       "350   0.734359  0.956264  0.960315  0.938347\n",
       "1930  0.721320  0.594648  0.249465  0.331802\n",
       "79    0.734359  0.698240  0.555476  0.564891\n",
       "1859  0.753188  0.506519  0.297338  0.332801\n",
       "1544  0.448775  0.458189  0.759465  0.886879\n",
       "\n",
       "[1961 rows x 4 columns]"
      ]
     },
     "execution_count": 17,
     "metadata": {},
     "output_type": "execute_result"
    }
   ],
   "source": [
    "from sklearn.preprocessing import MinMaxScaler\n",
    "\n",
    "import warnings\n",
    "warnings.filterwarnings('ignore')\n",
    "\n",
    "scaler = MinMaxScaler()\n",
    "\n",
    "# Applying scaler()\n",
    "num_vars = ['L(t-3)', 'L(t-2)', 'L(t-1)', 'L(t)']\n",
    "df_train[num_vars] = scaler.fit_transform(df_train[num_vars])\n",
    "df_test[num_vars] = scaler.fit_transform(df_test[num_vars])\n",
    "\n",
    "df_train\n",
    "\n"
   ]
  },
  {
   "cell_type": "code",
   "execution_count": 18,
   "id": "5c30ff47",
   "metadata": {},
   "outputs": [],
   "source": [
    "# Dividing the training data set into X and Y\n",
    "y_train = df_train.pop('L(t)')\n",
    "X_train = df_train\n",
    "y_test = df_test.pop('L(t)')\n",
    "X_test = df_test"
   ]
  },
  {
   "cell_type": "markdown",
   "id": "d446a97e",
   "metadata": {},
   "source": [
    "# Model Training"
   ]
  },
  {
   "cell_type": "code",
   "execution_count": 19,
   "id": "341599ba",
   "metadata": {},
   "outputs": [
    {
     "data": {
      "text/plain": [
       "LinearRegression()"
      ]
     },
     "execution_count": 19,
     "metadata": {},
     "output_type": "execute_result"
    }
   ],
   "source": [
    "from sklearn.linear_model import LinearRegression\n",
    "lreg = LinearRegression()\n",
    "lreg.fit(X_train, y_train)"
   ]
  },
  {
   "cell_type": "code",
   "execution_count": 20,
   "id": "e3cda419",
   "metadata": {},
   "outputs": [
    {
     "name": "stdout",
     "output_type": "stream",
     "text": [
      "\n",
      "Weights are [-0.21215469  0.02217096  0.87359063]\n",
      "Bias is 0.1529435018870301      \n",
      "\n"
     ]
    }
   ],
   "source": [
    "print(f\"\"\"\n",
    "Weights are {lreg.coef_}\n",
    "Bias is {lreg.intercept_}      \n",
    "\"\"\")"
   ]
  },
  {
   "cell_type": "markdown",
   "id": "313bd2de",
   "metadata": {},
   "source": [
    "# Error Metrics"
   ]
  },
  {
   "cell_type": "code",
   "execution_count": 21,
   "id": "d385f53d",
   "metadata": {},
   "outputs": [
    {
     "name": "stdout",
     "output_type": "stream",
     "text": [
      "Root mean square error is : 0.11862031708461862\n",
      "Mean square error is : 0.014070779625255466\n",
      "Mean absolute error is : 0.08204097934613061\n"
     ]
    }
   ],
   "source": [
    "import math\n",
    "from sklearn.metrics import mean_squared_error \n",
    "from sklearn.metrics import mean_absolute_error\n",
    "\n",
    "\n",
    "y_pred_test =  lreg.predict(X_test)\n",
    "y_pred_train =  lreg.predict(X_train)\n",
    "\n",
    "#Training Accuracies\n",
    "rmse = math.sqrt(mean_squared_error(y_train, y_pred_train)) \n",
    "print('Root mean square error is :', rmse) \n",
    "mse = (mean_squared_error(y_train, y_pred_train)) \n",
    "print('Mean square error is :', mse) \n",
    "mae=mean_absolute_error(y_train, y_pred_train)\n",
    "print('Mean absolute error is :', mae)"
   ]
  },
  {
   "cell_type": "code",
   "execution_count": 22,
   "id": "22ed909c",
   "metadata": {},
   "outputs": [
    {
     "name": "stdout",
     "output_type": "stream",
     "text": [
      "Root mean square error is : 0.10253704702246756\n",
      "Mean square error is : 0.010513846012087723\n",
      "Mean absolute error is : 0.07532215746484065\n"
     ]
    }
   ],
   "source": [
    "# Testing Errors\n",
    "rmse = math.sqrt(mean_squared_error(y_test, y_pred_test)) \n",
    "print('Root mean square error is :', rmse) \n",
    "mse = (mean_squared_error(y_test, y_pred_test)) \n",
    "print('Mean square error is :', mse) \n",
    "mae=mean_absolute_error(y_test, y_pred_test)\n",
    "print('Mean absolute error is :', mae)"
   ]
  },
  {
   "cell_type": "code",
   "execution_count": 23,
   "id": "e01ea380",
   "metadata": {},
   "outputs": [
    {
     "name": "stdout",
     "output_type": "stream",
     "text": [
      "Training set score: 0.62844538741859\n",
      "Test set score: 0.7493282151276978\n"
     ]
    }
   ],
   "source": [
    "print(\"Training set score:\",lreg.score(X_train,y_train))\n",
    "print(\"Test set score:\",lreg.score(X_test,y_test))"
   ]
  },
  {
   "cell_type": "markdown",
   "id": "98cef111",
   "metadata": {},
   "source": [
    "# Deploying"
   ]
  },
  {
   "cell_type": "code",
   "execution_count": 24,
   "id": "d585af87",
   "metadata": {},
   "outputs": [],
   "source": [
    "import pickle\n",
    "# Save the model\n",
    "filename = 'mlrmodel.model'\n",
    "pickle.dump(lreg, open(filename, 'wb'))"
   ]
  },
  {
   "cell_type": "code",
   "execution_count": 25,
   "id": "1fdac1a0",
   "metadata": {},
   "outputs": [
    {
     "name": "stdout",
     "output_type": "stream",
     "text": [
      "Enter load at t-3 hours222\n",
      "Enter load at t-2 hours2222\n",
      "Enter load at t-1 hours222\n",
      "Predicted Load is [1943.43686955]\n"
     ]
    }
   ],
   "source": [
    "load1 = input(\"Enter load at t-3 hours\")\n",
    "load2 = input(\"Enter load at t-2 hours\")\n",
    "load3 = input(\"Enter load at t-1 hours\")\n",
    "\n",
    "\n",
    "out = lreg.predict([[load1, load2, load2]])\n",
    "print(f\"Predicted Load is {out}\")"
   ]
  },
  {
   "cell_type": "markdown",
   "id": "18cd4998",
   "metadata": {},
   "source": []
  }
 ],
 "metadata": {
  "kernelspec": {
   "display_name": "Python 3",
   "language": "python",
   "name": "python3"
  },
  "language_info": {
   "codemirror_mode": {
    "name": "ipython",
    "version": 3
   },
   "file_extension": ".py",
   "mimetype": "text/x-python",
   "name": "python",
   "nbconvert_exporter": "python",
   "pygments_lexer": "ipython3",
   "version": "3.8.8"
  }
 },
 "nbformat": 4,
 "nbformat_minor": 5
}
