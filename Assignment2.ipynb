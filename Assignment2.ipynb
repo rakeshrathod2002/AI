{
  "nbformat": 4,
  "nbformat_minor": 0,
  "metadata": {
    "colab": {
      "name": "Assignment2.ipynb",
      "provenance": [],
      "authorship_tag": "ABX9TyNvA6zNgxktnzjPFp+r3jSD",
      "include_colab_link": true
    },
    "kernelspec": {
      "name": "python3",
      "display_name": "Python 3"
    },
    "language_info": {
      "name": "python"
    }
  },
  "cells": [
    {
      "cell_type": "markdown",
      "metadata": {
        "id": "view-in-github",
        "colab_type": "text"
      },
      "source": [
        "<a href=\"https://colab.research.google.com/github/rakeshrathod2002/AI/blob/main/Assignment2.ipynb\" target=\"_parent\"><img src=\"https://colab.research.google.com/assets/colab-badge.svg\" alt=\"Open In Colab\"/></a>"
      ]
    },
    {
      "cell_type": "markdown",
      "metadata": {
        "id": "F7ghqhIwvkgB"
      },
      "source": [
        "<h4> Finding global minimum of the given function <h4> ${f(x) = x^4 + 3x^2 + 10}$ </h4> <h4> and finding the optimal solution using <b>Gradient Descent Algorithim</b> </h4>"
      ]
    },
    {
      "cell_type": "markdown",
      "metadata": {
        "id": "mtKcDYy4r1kF"
      },
      "source": [
        "## Graph for the Fucntion ${f(x) = x^4 + 3x^2 + 10}$\n",
        "![Graph](https://raw.githubusercontent.com/rakeshrathod2002/AI/main/Assignment2_Graph.PNG)"
      ]
    },
    {
      "cell_type": "markdown",
      "metadata": {
        "id": "jxub5E2svr_o"
      },
      "source": [
        "## manual calculation \n",
        "![manual calculations](https://raw.githubusercontent.com/rakeshrathod2002/AI/main/Assignment2_Manual_calc.jpeg)"
      ]
    },
    {
      "cell_type": "code",
      "metadata": {
        "colab": {
          "base_uri": "https://localhost:8080/"
        },
        "id": "fu_3m5nJos-S",
        "outputId": "e0332565-56d8-4134-fa3b-c776ba860dcb"
      },
      "source": [
        "import numpy as np\n",
        "x0 = np.random.uniform(1,4)\n",
        "learning_rate = 0.01\n",
        "\n",
        "steps = 0\n",
        "max_steps = 1000\n",
        "pre_step_size = 1\n",
        "function = lambda x: x**4 + 3*(x**2) + 10\n",
        "grad = lambda x: 4*(x**3) + 6*x\n",
        "\n",
        "while pre_step_size > 0.0000001 and steps < max_steps:\n",
        "    previous_x = x0\n",
        "    x0 = x0 - learning_rate * grad(previous_x)\n",
        "    pre_step_size = abs(x0 - previous_x)\n",
        "    steps += 1\n",
        "\n",
        "print(f\"\\nThe Local minumum / Global minimum occurs at: {round(x0)}\")\n",
        "print(f\"steps taken to reach the minimum: {steps}\\n\")\n",
        "print(f\"for x = {round(x0)} in function gives {function(round(x0))} \", )"
      ],
      "execution_count": 10,
      "outputs": [
        {
          "output_type": "stream",
          "name": "stdout",
          "text": [
            "\n",
            "The Local minumum / Global minimum occurs at: 0\n",
            "steps taken to reach the minimum: 215\n",
            "\n",
            "for x = 0 in function gives 10 \n",
            "\n"
          ]
        }
      ]
    },
    {
      "cell_type": "code",
      "metadata": {
        "id": "TEwgvoV8ow_L"
      },
      "source": [
        ""
      ],
      "execution_count": null,
      "outputs": []
    }
  ]
}