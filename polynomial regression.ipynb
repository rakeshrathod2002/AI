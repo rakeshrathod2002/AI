{
 "cells": [
  {
   "cell_type": "markdown",
   "id": "7a7d8dd2",
   "metadata": {},
   "source": [
    "RATHLAVATH RAKESH   \n",
    "20K45A0222"
   ]
  },
  {
   "cell_type": "markdown",
   "id": "6afdaf1f",
   "metadata": {},
   "source": [
    "# Import Libraries"
   ]
  },
  {
   "cell_type": "code",
   "execution_count": 3,
   "id": "255efa6b",
   "metadata": {},
   "outputs": [],
   "source": [
    "import numpy as np\n",
    "import matplotlib.pyplot as plt\n",
    "import pandas as pd"
   ]
  },
  {
   "cell_type": "markdown",
   "id": "ef71c532",
   "metadata": {},
   "source": [
    "# Load Dataset"
   ]
  },
  {
   "cell_type": "code",
   "execution_count": 5,
   "id": "f51249c9",
   "metadata": {
    "scrolled": true
   },
   "outputs": [
    {
     "data": {
      "text/html": [
       "<div>\n",
       "<style scoped>\n",
       "    .dataframe tbody tr th:only-of-type {\n",
       "        vertical-align: middle;\n",
       "    }\n",
       "\n",
       "    .dataframe tbody tr th {\n",
       "        vertical-align: top;\n",
       "    }\n",
       "\n",
       "    .dataframe thead th {\n",
       "        text-align: right;\n",
       "    }\n",
       "</style>\n",
       "<table border=\"1\" class=\"dataframe\">\n",
       "  <thead>\n",
       "    <tr style=\"text-align: right;\">\n",
       "      <th></th>\n",
       "      <th>pH_level</th>\n",
       "      <th>Bicarbonates</th>\n",
       "    </tr>\n",
       "  </thead>\n",
       "  <tbody>\n",
       "    <tr>\n",
       "      <th>29</th>\n",
       "      <td>8.5</td>\n",
       "      <td>48</td>\n",
       "    </tr>\n",
       "    <tr>\n",
       "      <th>30</th>\n",
       "      <td>7.8</td>\n",
       "      <td>147</td>\n",
       "    </tr>\n",
       "    <tr>\n",
       "      <th>31</th>\n",
       "      <td>6.7</td>\n",
       "      <td>117</td>\n",
       "    </tr>\n",
       "    <tr>\n",
       "      <th>32</th>\n",
       "      <td>7.1</td>\n",
       "      <td>182</td>\n",
       "    </tr>\n",
       "    <tr>\n",
       "      <th>33</th>\n",
       "      <td>7.3</td>\n",
       "      <td>87</td>\n",
       "    </tr>\n",
       "  </tbody>\n",
       "</table>\n",
       "</div>"
      ],
      "text/plain": [
       "    pH_level  Bicarbonates\n",
       "29       8.5            48\n",
       "30       7.8           147\n",
       "31       6.7           117\n",
       "32       7.1           182\n",
       "33       7.3            87"
      ]
     },
     "execution_count": 5,
     "metadata": {},
     "output_type": "execute_result"
    }
   ],
   "source": [
    "data = pd.read_csv('slr09 (2).csv')\n",
    "data = data.rename(columns={\n",
    "'X':'pH_level',\n",
    "'Y':'Bicarbonates'\n",
    "})\n",
    "data.tail()"
   ]
  },
  {
   "cell_type": "code",
   "execution_count": 7,
   "id": "0334f71f",
   "metadata": {},
   "outputs": [
    {
     "name": "stdout",
     "output_type": "stream",
     "text": [
      "pH_level        0\n",
      "Bicarbonates    0\n",
      "dtype: int64\n"
     ]
    }
   ],
   "source": [
    "print(data.isnull().sum())"
   ]
  },
  {
   "cell_type": "code",
   "execution_count": 8,
   "id": "117034a9",
   "metadata": {},
   "outputs": [],
   "source": [
    "xmax, xmin = np.max(data['pH_level']), np.min(data['pH_level'])\n",
    "data['pH_level'] = (data['pH_level'] - xmin) / (xmax - xmin)\n",
    "\n",
    "ymax, ymin = np.max(data['Bicarbonates']), np.min(data['Bicarbonates'])\n",
    "data['Bicarbonates'] = (data['Bicarbonates'] - ymin) / (ymax - ymin)"
   ]
  },
  {
   "cell_type": "code",
   "execution_count": 9,
   "id": "2a551c0f",
   "metadata": {},
   "outputs": [
    {
     "data": {
      "text/html": [
       "<div>\n",
       "<style scoped>\n",
       "    .dataframe tbody tr th:only-of-type {\n",
       "        vertical-align: middle;\n",
       "    }\n",
       "\n",
       "    .dataframe tbody tr th {\n",
       "        vertical-align: top;\n",
       "    }\n",
       "\n",
       "    .dataframe thead th {\n",
       "        text-align: right;\n",
       "    }\n",
       "</style>\n",
       "<table border=\"1\" class=\"dataframe\">\n",
       "  <thead>\n",
       "    <tr style=\"text-align: right;\">\n",
       "      <th></th>\n",
       "      <th>pH_level</th>\n",
       "      <th>Bicarbonates</th>\n",
       "    </tr>\n",
       "  </thead>\n",
       "  <tbody>\n",
       "    <tr>\n",
       "      <th>29</th>\n",
       "      <td>0.857143</td>\n",
       "      <td>0.057269</td>\n",
       "    </tr>\n",
       "    <tr>\n",
       "      <th>30</th>\n",
       "      <td>0.523810</td>\n",
       "      <td>0.493392</td>\n",
       "    </tr>\n",
       "    <tr>\n",
       "      <th>31</th>\n",
       "      <td>0.000000</td>\n",
       "      <td>0.361233</td>\n",
       "    </tr>\n",
       "    <tr>\n",
       "      <th>32</th>\n",
       "      <td>0.190476</td>\n",
       "      <td>0.647577</td>\n",
       "    </tr>\n",
       "    <tr>\n",
       "      <th>33</th>\n",
       "      <td>0.285714</td>\n",
       "      <td>0.229075</td>\n",
       "    </tr>\n",
       "  </tbody>\n",
       "</table>\n",
       "</div>"
      ],
      "text/plain": [
       "    pH_level  Bicarbonates\n",
       "29  0.857143      0.057269\n",
       "30  0.523810      0.493392\n",
       "31  0.000000      0.361233\n",
       "32  0.190476      0.647577\n",
       "33  0.285714      0.229075"
      ]
     },
     "execution_count": 9,
     "metadata": {},
     "output_type": "execute_result"
    }
   ],
   "source": [
    "data.tail()"
   ]
  },
  {
   "cell_type": "code",
   "execution_count": 10,
   "id": "81bd8515",
   "metadata": {},
   "outputs": [
    {
     "data": {
      "text/html": [
       "<div>\n",
       "<style scoped>\n",
       "    .dataframe tbody tr th:only-of-type {\n",
       "        vertical-align: middle;\n",
       "    }\n",
       "\n",
       "    .dataframe tbody tr th {\n",
       "        vertical-align: top;\n",
       "    }\n",
       "\n",
       "    .dataframe thead th {\n",
       "        text-align: right;\n",
       "    }\n",
       "</style>\n",
       "<table border=\"1\" class=\"dataframe\">\n",
       "  <thead>\n",
       "    <tr style=\"text-align: right;\">\n",
       "      <th></th>\n",
       "      <th>count</th>\n",
       "      <th>mean</th>\n",
       "      <th>std</th>\n",
       "      <th>min</th>\n",
       "      <th>25%</th>\n",
       "      <th>50%</th>\n",
       "      <th>75%</th>\n",
       "      <th>max</th>\n",
       "    </tr>\n",
       "  </thead>\n",
       "  <tbody>\n",
       "    <tr>\n",
       "      <th>pH_level</th>\n",
       "      <td>34.0</td>\n",
       "      <td>0.457983</td>\n",
       "      <td>0.238820</td>\n",
       "      <td>0.0</td>\n",
       "      <td>0.285714</td>\n",
       "      <td>0.428571</td>\n",
       "      <td>0.619048</td>\n",
       "      <td>1.0</td>\n",
       "    </tr>\n",
       "    <tr>\n",
       "      <th>Bicarbonates</th>\n",
       "      <td>34.0</td>\n",
       "      <td>0.474864</td>\n",
       "      <td>0.245759</td>\n",
       "      <td>0.0</td>\n",
       "      <td>0.317181</td>\n",
       "      <td>0.493392</td>\n",
       "      <td>0.667401</td>\n",
       "      <td>1.0</td>\n",
       "    </tr>\n",
       "  </tbody>\n",
       "</table>\n",
       "</div>"
      ],
      "text/plain": [
       "              count      mean       std  min       25%       50%       75%  \\\n",
       "pH_level       34.0  0.457983  0.238820  0.0  0.285714  0.428571  0.619048   \n",
       "Bicarbonates   34.0  0.474864  0.245759  0.0  0.317181  0.493392  0.667401   \n",
       "\n",
       "              max  \n",
       "pH_level      1.0  \n",
       "Bicarbonates  1.0  "
      ]
     },
     "execution_count": 10,
     "metadata": {},
     "output_type": "execute_result"
    }
   ],
   "source": [
    "data.describe().transpose()"
   ]
  },
  {
   "cell_type": "code",
   "execution_count": 12,
   "id": "dc10bddb",
   "metadata": {},
   "outputs": [],
   "source": [
    "from sklearn.model_selection import train_test_split\n",
    "X = data['pH_level']\n",
    "Y = data['Bicarbonates']\n",
    "xtrain, xtest, ytrain, ytest = train_test_split(X, Y, test_size=0.1, random_state=10)"
   ]
  },
  {
   "cell_type": "code",
   "execution_count": 13,
   "id": "4cf6b380",
   "metadata": {},
   "outputs": [
    {
     "name": "stdout",
     "output_type": "stream",
     "text": [
      "Model Weights = -0.4422078469761987, 0.02537868091049668\n",
      "Model Bias = 0.5355380469211244\n"
     ]
    }
   ],
   "source": [
    "m1 = np.random.uniform(-10, 10)\n",
    "m2 = np.random.uniform(-10, 10)\n",
    "c = np.random.uniform(-10, 10)\n",
    "learning_rate = 0.1\n",
    "epochs = 1000\n",
    "\n",
    "for _ in range(epochs):\n",
    "    for i in range(xtrain.shape[0]):\n",
    "        x, y = xtrain.iloc[i], ytrain.iloc[i]\n",
    "        ypred = (x ** 2) * m1 + x * m2 + c\n",
    "        gradm1 = -1 * (x ** 2) * (y - ypred)\n",
    "        gradm2 = -1 * x * (y - ypred)\n",
    "        gradc = -1 * (y - ypred)\n",
    "        m1 = m1 - learning_rate * gradm1\n",
    "        m2 = m2 - learning_rate * gradm2\n",
    "        c = c - learning_rate * gradc\n",
    "        \n",
    "model_params = [m1,m2, c]\n",
    "\n",
    "print(f\"Model Weights = {model_params[0]}, {model_params[1]}\\nModel Bias = {model_params[2]}\")"
   ]
  },
  {
   "cell_type": "code",
   "execution_count": 14,
   "id": "8ddc7698",
   "metadata": {},
   "outputs": [],
   "source": [
    "ytrainPred = []\n",
    "for x in xtrain:\n",
    "    ytrainPred.append(m1 * (x ** 2) + m2 * x + c)\n",
    "\n",
    "#Predict Y values for testing data\n",
    "ytestPred = []\n",
    "for x in xtest:\n",
    "    ytestPred.append(m1 * (x ** 2) + m2 * x + c)"
   ]
  },
  {
   "cell_type": "code",
   "execution_count": 15,
   "id": "3ce97e2f",
   "metadata": {},
   "outputs": [],
   "source": [
    "\n",
    "xtrain = xtrain * (xmax - xmin) + xmin\n",
    "ytrain = ytrain * (ymax - ymin) + ymin\n",
    "\n",
    "xtest = xtest * (xmax - xmin) + xmin\n",
    "ytest = ytest * (ymax - ymin) + ymin\n",
    "\n",
    "ytrainPred = np.multiply(ytrainPred, (ymax - ymin)) + ymin\n",
    "ytestPred = np.multiply(ytestPred, (ymax - ymin)) + ymin"
   ]
  },
  {
   "cell_type": "code",
   "execution_count": 17,
   "id": "55e75bf3",
   "metadata": {},
   "outputs": [
    {
     "name": "stdout",
     "output_type": "stream",
     "text": [
      "Training Error :\n",
      "Mean Absolute Error : 43.34161986326021\n",
      "Mean Squared Error : 2646.929141460208\n",
      "Root Mean Squared Error : 51.44831524413805\n",
      "\n",
      "Testing Error :\n",
      "Mean Absolute Error : 56.7993105971687\n",
      "Mean Squared Error : 3705.685712458435\n",
      "Root Mean Squared Error : 60.874343630616956\n"
     ]
    }
   ],
   "source": [
    "from sklearn.metrics import mean_absolute_error,mean_squared_error\n",
    "MAE_Train = mean_absolute_error(ytrainPred, ytrain) \n",
    "MSE_Train = mean_squared_error(ytrainPred, ytrain) \n",
    "RMSE_Train = mean_squared_error(ytrainPred, ytrain) ** 0.5\n",
    "\n",
    "MAE_Test = mean_absolute_error(ytestPred, ytest) \n",
    "MSE_Test = mean_squared_error(ytestPred, ytest) \n",
    "RMSE_Test = mean_squared_error(ytestPred, ytest) ** 0.5\n",
    "\n",
    " \n",
    "print('Training Error :')\n",
    "print('Mean Absolute Error :', MAE_Train)\n",
    "print('Mean Squared Error :', MSE_Train)\n",
    "print('Root Mean Squared Error :', RMSE_Train)\n",
    "print('\\nTesting Error :')\n",
    "print('Mean Absolute Error :', MAE_Test)\n",
    "print('Mean Squared Error :', MSE_Test)\n",
    "print('Root Mean Squared Error :', RMSE_Test)"
   ]
  },
  {
   "cell_type": "code",
   "execution_count": 20,
   "id": "b75eb255",
   "metadata": {},
   "outputs": [
    {
     "name": "stdout",
     "output_type": "stream",
     "text": [
      "pH of water : 7\n",
      "Estimated amount of bicarbonates : 155.342\n"
     ]
    }
   ],
   "source": [
    "x = float(input('pH of water : '))\n",
    "normalizedX = (x - xmin) / (xmax - xmin)\n",
    "predy = m1 * normalizedX ** 2 + m2 * normalizedX + c\n",
    "y = predy * (ymax - ymin) + ymin\n",
    "print('Estimated amount of bicarbonates :', round(y, 3))"
   ]
  },
  {
   "cell_type": "code",
   "execution_count": null,
   "id": "9deabd1f",
   "metadata": {},
   "outputs": [],
   "source": []
  }
 ],
 "metadata": {
  "kernelspec": {
   "display_name": "Python 3",
   "language": "python",
   "name": "python3"
  },
  "language_info": {
   "codemirror_mode": {
    "name": "ipython",
    "version": 3
   },
   "file_extension": ".py",
   "mimetype": "text/x-python",
   "name": "python",
   "nbconvert_exporter": "python",
   "pygments_lexer": "ipython3",
   "version": "3.8.8"
  }
 },
 "nbformat": 4,
 "nbformat_minor": 5
}
