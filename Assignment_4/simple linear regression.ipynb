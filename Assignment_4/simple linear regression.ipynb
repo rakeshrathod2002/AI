{
 "cells": [
  {
   "cell_type": "code",
   "execution_count": 1,
   "id": "cf6a6d6e",
   "metadata": {},
   "outputs": [],
   "source": [
    "import numpy as np\n",
    "import math as mt\n",
    "import random\n",
    "import pandas as pd\n",
    "import matplotlib.pyplot as plt"
   ]
  },
  {
   "cell_type": "code",
   "execution_count": 2,
   "id": "7f2bd1f9",
   "metadata": {},
   "outputs": [
    {
     "data": {
      "text/html": [
       "<div>\n",
       "<style scoped>\n",
       "    .dataframe tbody tr th:only-of-type {\n",
       "        vertical-align: middle;\n",
       "    }\n",
       "\n",
       "    .dataframe tbody tr th {\n",
       "        vertical-align: top;\n",
       "    }\n",
       "\n",
       "    .dataframe thead th {\n",
       "        text-align: right;\n",
       "    }\n",
       "</style>\n",
       "<table border=\"1\" class=\"dataframe\">\n",
       "  <thead>\n",
       "    <tr style=\"text-align: right;\">\n",
       "      <th></th>\n",
       "      <th>X</th>\n",
       "      <th>Y</th>\n",
       "    </tr>\n",
       "  </thead>\n",
       "  <tbody>\n",
       "    <tr>\n",
       "      <th>0</th>\n",
       "      <td>7.6</td>\n",
       "      <td>157</td>\n",
       "    </tr>\n",
       "    <tr>\n",
       "      <th>1</th>\n",
       "      <td>7.1</td>\n",
       "      <td>174</td>\n",
       "    </tr>\n",
       "    <tr>\n",
       "      <th>2</th>\n",
       "      <td>8.2</td>\n",
       "      <td>175</td>\n",
       "    </tr>\n",
       "    <tr>\n",
       "      <th>3</th>\n",
       "      <td>7.5</td>\n",
       "      <td>188</td>\n",
       "    </tr>\n",
       "    <tr>\n",
       "      <th>4</th>\n",
       "      <td>7.4</td>\n",
       "      <td>171</td>\n",
       "    </tr>\n",
       "  </tbody>\n",
       "</table>\n",
       "</div>"
      ],
      "text/plain": [
       "     X    Y\n",
       "0  7.6  157\n",
       "1  7.1  174\n",
       "2  8.2  175\n",
       "3  7.5  188\n",
       "4  7.4  171"
      ]
     },
     "execution_count": 2,
     "metadata": {},
     "output_type": "execute_result"
    }
   ],
   "source": [
    "data = pd.read_csv(\"slr09 (2).csv\")\n",
    "data.head()"
   ]
  },
  {
   "cell_type": "code",
   "execution_count": 3,
   "id": "654cb08e",
   "metadata": {},
   "outputs": [
    {
     "data": {
      "text/plain": [
       "(34, 2)"
      ]
     },
     "execution_count": 3,
     "metadata": {},
     "output_type": "execute_result"
    }
   ],
   "source": [
    "data.shape"
   ]
  },
  {
   "cell_type": "code",
   "execution_count": 4,
   "id": "ef6f3bd0",
   "metadata": {},
   "outputs": [
    {
     "data": {
      "image/png": "[encoded data removed]",
      "text/plain": [
       "<Figure size 432x288 with 1 Axes>"
      ]
     },
     "metadata": {
      "needs_background": "light"
     },
     "output_type": "display_data"
    }
   ],
   "source": [
    "  data.plot(kind='scatter',x=\"X\",y=\"Y\")\n",
    "  plt.show()"
   ]
  },
  {
   "cell_type": "code",
   "execution_count": 5,
   "id": "386557d7",
   "metadata": {},
   "outputs": [],
   "source": [
    "# outliers = []\n",
    "def detect_outliers_zscore(data):\n",
    "    thres = 3\n",
    "    mean = np.mean(data)\n",
    "    std = np.std(data)\n",
    "    # print(mean, std)\n",
    "    for i in data:\n",
    "        z_score = (i-mean)/std\n",
    "        if (np.abs(z_score) > thres):\n",
    "            outliers.append(i)\n",
    "    return outliers# Driver code"
   ]
  },
  {
   "cell_type": "code",
   "execution_count": 6,
   "id": "600ea81c",
   "metadata": {},
   "outputs": [
    {
     "name": "stdout",
     "output_type": "stream",
     "text": [
      "X    0\n",
      "Y    0\n",
      "dtype: int64\n"
     ]
    }
   ],
   "source": [
    "print(data.isnull().sum())"
   ]
  },
  {
   "cell_type": "code",
   "execution_count": 7,
   "id": "7693e711",
   "metadata": {},
   "outputs": [
    {
     "data": {
      "text/html": [
       "<div>\n",
       "<style scoped>\n",
       "    .dataframe tbody tr th:only-of-type {\n",
       "        vertical-align: middle;\n",
       "    }\n",
       "\n",
       "    .dataframe tbody tr th {\n",
       "        vertical-align: top;\n",
       "    }\n",
       "\n",
       "    .dataframe thead th {\n",
       "        text-align: right;\n",
       "    }\n",
       "</style>\n",
       "<table border=\"1\" class=\"dataframe\">\n",
       "  <thead>\n",
       "    <tr style=\"text-align: right;\">\n",
       "      <th></th>\n",
       "      <th>X</th>\n",
       "      <th>Y</th>\n",
       "    </tr>\n",
       "  </thead>\n",
       "  <tbody>\n",
       "    <tr>\n",
       "      <th>0</th>\n",
       "      <td>7.6</td>\n",
       "      <td>157</td>\n",
       "    </tr>\n",
       "    <tr>\n",
       "      <th>1</th>\n",
       "      <td>7.1</td>\n",
       "      <td>174</td>\n",
       "    </tr>\n",
       "    <tr>\n",
       "      <th>2</th>\n",
       "      <td>8.2</td>\n",
       "      <td>175</td>\n",
       "    </tr>\n",
       "    <tr>\n",
       "      <th>3</th>\n",
       "      <td>7.5</td>\n",
       "      <td>188</td>\n",
       "    </tr>\n",
       "    <tr>\n",
       "      <th>4</th>\n",
       "      <td>7.4</td>\n",
       "      <td>171</td>\n",
       "    </tr>\n",
       "    <tr>\n",
       "      <th>5</th>\n",
       "      <td>7.8</td>\n",
       "      <td>143</td>\n",
       "    </tr>\n",
       "    <tr>\n",
       "      <th>6</th>\n",
       "      <td>7.3</td>\n",
       "      <td>217</td>\n",
       "    </tr>\n",
       "    <tr>\n",
       "      <th>7</th>\n",
       "      <td>8.0</td>\n",
       "      <td>190</td>\n",
       "    </tr>\n",
       "    <tr>\n",
       "      <th>8</th>\n",
       "      <td>7.1</td>\n",
       "      <td>142</td>\n",
       "    </tr>\n",
       "    <tr>\n",
       "      <th>9</th>\n",
       "      <td>7.5</td>\n",
       "      <td>190</td>\n",
       "    </tr>\n",
       "    <tr>\n",
       "      <th>10</th>\n",
       "      <td>8.1</td>\n",
       "      <td>215</td>\n",
       "    </tr>\n",
       "    <tr>\n",
       "      <th>11</th>\n",
       "      <td>7.0</td>\n",
       "      <td>199</td>\n",
       "    </tr>\n",
       "    <tr>\n",
       "      <th>12</th>\n",
       "      <td>7.3</td>\n",
       "      <td>262</td>\n",
       "    </tr>\n",
       "    <tr>\n",
       "      <th>13</th>\n",
       "      <td>7.8</td>\n",
       "      <td>105</td>\n",
       "    </tr>\n",
       "    <tr>\n",
       "      <th>14</th>\n",
       "      <td>7.3</td>\n",
       "      <td>121</td>\n",
       "    </tr>\n",
       "    <tr>\n",
       "      <th>15</th>\n",
       "      <td>8.0</td>\n",
       "      <td>81</td>\n",
       "    </tr>\n",
       "    <tr>\n",
       "      <th>16</th>\n",
       "      <td>8.5</td>\n",
       "      <td>82</td>\n",
       "    </tr>\n",
       "    <tr>\n",
       "      <th>17</th>\n",
       "      <td>7.1</td>\n",
       "      <td>210</td>\n",
       "    </tr>\n",
       "    <tr>\n",
       "      <th>18</th>\n",
       "      <td>8.2</td>\n",
       "      <td>202</td>\n",
       "    </tr>\n",
       "    <tr>\n",
       "      <th>19</th>\n",
       "      <td>7.9</td>\n",
       "      <td>155</td>\n",
       "    </tr>\n",
       "    <tr>\n",
       "      <th>20</th>\n",
       "      <td>7.6</td>\n",
       "      <td>157</td>\n",
       "    </tr>\n",
       "    <tr>\n",
       "      <th>21</th>\n",
       "      <td>8.8</td>\n",
       "      <td>147</td>\n",
       "    </tr>\n",
       "    <tr>\n",
       "      <th>22</th>\n",
       "      <td>7.2</td>\n",
       "      <td>133</td>\n",
       "    </tr>\n",
       "    <tr>\n",
       "      <th>23</th>\n",
       "      <td>7.9</td>\n",
       "      <td>53</td>\n",
       "    </tr>\n",
       "    <tr>\n",
       "      <th>24</th>\n",
       "      <td>8.1</td>\n",
       "      <td>56</td>\n",
       "    </tr>\n",
       "    <tr>\n",
       "      <th>25</th>\n",
       "      <td>7.7</td>\n",
       "      <td>113</td>\n",
       "    </tr>\n",
       "    <tr>\n",
       "      <th>26</th>\n",
       "      <td>8.4</td>\n",
       "      <td>35</td>\n",
       "    </tr>\n",
       "    <tr>\n",
       "      <th>27</th>\n",
       "      <td>7.4</td>\n",
       "      <td>125</td>\n",
       "    </tr>\n",
       "    <tr>\n",
       "      <th>28</th>\n",
       "      <td>7.3</td>\n",
       "      <td>76</td>\n",
       "    </tr>\n",
       "    <tr>\n",
       "      <th>29</th>\n",
       "      <td>8.5</td>\n",
       "      <td>48</td>\n",
       "    </tr>\n",
       "    <tr>\n",
       "      <th>30</th>\n",
       "      <td>7.8</td>\n",
       "      <td>147</td>\n",
       "    </tr>\n",
       "    <tr>\n",
       "      <th>31</th>\n",
       "      <td>6.7</td>\n",
       "      <td>117</td>\n",
       "    </tr>\n",
       "    <tr>\n",
       "      <th>32</th>\n",
       "      <td>7.1</td>\n",
       "      <td>182</td>\n",
       "    </tr>\n",
       "    <tr>\n",
       "      <th>33</th>\n",
       "      <td>7.3</td>\n",
       "      <td>87</td>\n",
       "    </tr>\n",
       "  </tbody>\n",
       "</table>\n",
       "</div>"
      ],
      "text/plain": [
       "      X    Y\n",
       "0   7.6  157\n",
       "1   7.1  174\n",
       "2   8.2  175\n",
       "3   7.5  188\n",
       "4   7.4  171\n",
       "5   7.8  143\n",
       "6   7.3  217\n",
       "7   8.0  190\n",
       "8   7.1  142\n",
       "9   7.5  190\n",
       "10  8.1  215\n",
       "11  7.0  199\n",
       "12  7.3  262\n",
       "13  7.8  105\n",
       "14  7.3  121\n",
       "15  8.0   81\n",
       "16  8.5   82\n",
       "17  7.1  210\n",
       "18  8.2  202\n",
       "19  7.9  155\n",
       "20  7.6  157\n",
       "21  8.8  147\n",
       "22  7.2  133\n",
       "23  7.9   53\n",
       "24  8.1   56\n",
       "25  7.7  113\n",
       "26  8.4   35\n",
       "27  7.4  125\n",
       "28  7.3   76\n",
       "29  8.5   48\n",
       "30  7.8  147\n",
       "31  6.7  117\n",
       "32  7.1  182\n",
       "33  7.3   87"
      ]
     },
     "execution_count": 7,
     "metadata": {},
     "output_type": "execute_result"
    }
   ],
   "source": [
    "m1=data['X'].mean()\n",
    "m2=data['Y'].mean()\n",
    "data['X'].fillna(value=m1, inplace=True)\n",
    "data['Y'].fillna(value=m2, inplace=True)\n",
    "data"
   ]
  },
  {
   "cell_type": "code",
   "execution_count": 8,
   "id": "a4ed72e2",
   "metadata": {},
   "outputs": [],
   "source": [
    "from sklearn.model_selection import train_test_split\n",
    "x_train, x_test, y_train, y_test = train_test_split(data.X, data.Y, test_size = 0.9, random_state = 10)"
   ]
  },
  {
   "cell_type": "code",
   "execution_count": 9,
   "id": "1e1719ad",
   "metadata": {},
   "outputs": [],
   "source": [
    "m=random.uniform(-20,20)\n",
    "c=random.uniform(-20,20)\n",
    "eta=0.03\n",
    "max_iter=100000"
   ]
  },
  {
   "cell_type": "code",
   "execution_count": 10,
   "id": "058f1c5d",
   "metadata": {},
   "outputs": [],
   "source": [
    "def gradient(m,c,x,y):\n",
    "  m_deriv=-1*(y-m*x-c)*x\n",
    "  c_deriv=-1*(y-m*x-c)\n",
    "  return m_deriv,c_deriv"
   ]
  },
  {
   "cell_type": "code",
   "execution_count": 11,
   "id": "f1d8d04d",
   "metadata": {},
   "outputs": [
    {
     "name": "stdout",
     "output_type": "stream",
     "text": [
      "model parameter m and c -96.64941802812864 947.564361879263\n"
     ]
    }
   ],
   "source": [
    "for iter in range(max_iter):\n",
    "  for sample in range(x_train.shape[0]):\n",
    "    del_m,del_c=gradient(m, c, x_train.iloc[sample], y_train.iloc[sample])\n",
    "    m=m-eta*del_m\n",
    "    c=c-eta*del_c\n",
    "print('model parameter m and c',m,c)"
   ]
  },
  {
   "cell_type": "code",
   "execution_count": 12,
   "id": "71bb2c8f",
   "metadata": {},
   "outputs": [],
   "source": [
    "y_pred_train = []\n",
    "for i in x_train:\n",
    "  y_p_tr = (m * i) + c\n",
    "  y_pred_train.append(y_p_tr)\n",
    "y_pred_train = np.array(y_pred_train)"
   ]
  },
  {
   "cell_type": "code",
   "execution_count": 13,
   "id": "7bd78b9d",
   "metadata": {},
   "outputs": [],
   "source": [
    "y_pred_test = []\n",
    "for i in x_test:\n",
    "  y_p_te = (m * i) + c\n",
    "  y_pred_test.append(y_p_te)\n",
    "y_pred_test = np.array(y_pred_test)"
   ]
  },
  {
   "cell_type": "code",
   "execution_count": 14,
   "id": "2734ab28",
   "metadata": {},
   "outputs": [
    {
     "name": "stdout",
     "output_type": "stream",
     "text": [
      "Root mean square error 65.64012480863836\n",
      "Mean square error 4308.6259848936215\n",
      "Mean absolute error 60.697176396005794\n"
     ]
    }
   ],
   "source": [
    "import math\n",
    "from sklearn.metrics import mean_squared_error \n",
    "from sklearn.metrics import mean_absolute_error\n",
    "\n",
    "\n",
    "#Training Accuracies\n",
    "rmse = math.sqrt(mean_squared_error(y_train, y_pred_train)) \n",
    "print('Root mean square error', rmse) \n",
    "mse = (mean_squared_error(y_train, y_pred_train)) \n",
    "print('Mean square error', mse) \n",
    "mae=mean_absolute_error(y_train, y_pred_train)\n",
    "print('Mean absolute error', mae)"
   ]
  },
  {
   "cell_type": "code",
   "execution_count": 15,
   "id": "b4fdd289",
   "metadata": {},
   "outputs": [
    {
     "name": "stdout",
     "output_type": "stream",
     "text": [
      "Root mean square error 89.28732316185415\n",
      "Mean square error 7972.226077409375\n",
      "Mean absolute error 77.69272477943103\n"
     ]
    }
   ],
   "source": [
    "#Testing Accuracies\n",
    "mse = math.sqrt(mean_squared_error(y_test, y_pred_test)) \n",
    "print('Root mean square error', mse) \n",
    "mse = (mean_squared_error(y_test, y_pred_test)) \n",
    "print('Mean square error', mse) \n",
    "mae=mean_absolute_error(y_test, y_pred_test)\n",
    "print('Mean absolute error', mae)"
   ]
  },
  {
   "cell_type": "code",
   "execution_count": 16,
   "id": "b31e9f4d",
   "metadata": {},
   "outputs": [
    {
     "name": "stdout",
     "output_type": "stream",
     "text": [
      "enter X value7\n",
      "X= 7\n",
      "Y= 271.01843568236245\n"
     ]
    }
   ],
   "source": [
    "X=input('enter X value')\n",
    "print('X=',X)\n",
    "Y=m*float(X)+c\n",
    "print('Y=',Y)"
   ]
  }
 ],
 "metadata": {
  "kernelspec": {
   "display_name": "Python 3",
   "language": "python",
   "name": "python3"
  },
  "language_info": {
   "codemirror_mode": {
    "name": "ipython",
    "version": 3
   },
   "file_extension": ".py",
   "mimetype": "text/x-python",
   "name": "python",
   "nbconvert_exporter": "python",
   "pygments_lexer": "ipython3",
   "version": "3.8.8"
  }
 },
 "nbformat": 4,
 "nbformat_minor": 5
}
