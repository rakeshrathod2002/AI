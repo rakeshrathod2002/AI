{
  "nbformat": 4,
  "nbformat_minor": 0,
  "metadata": {
    "colab": {
      "name": "Assignment1.ipynb",
      "provenance": [],
      "authorship_tag": "ABX9TyN4WQz5Y9y9p+vL2Um+d3zN",
      "include_colab_link": true
    },
    "kernelspec": {
      "name": "python3",
      "display_name": "Python 3"
    },
    "language_info": {
      "name": "python"
    }
  },
  "cells": [
    {
      "cell_type": "markdown",
      "metadata": {
        "id": "view-in-github",
        "colab_type": "text"
      },
      "source": [
        "<a href=\"https://colab.research.google.com/github/rakeshrathod2002/AI/blob/main/Assignment1.ipynb\" target=\"_parent\"><img src=\"https://colab.research.google.com/assets/colab-badge.svg\" alt=\"Open In Colab\"/></a>"
      ]
    },
    {
      "cell_type": "code",
      "metadata": {
        "id": "Bsuw5AvGGaYe"
      },
      "source": [
        ""
      ],
      "execution_count": null,
      "outputs": []
    },
    {
      "cell_type": "code",
      "metadata": {
        "colab": {
          "base_uri": "https://localhost:8080/"
        },
        "id": "CUxxCgMjFBI-",
        "outputId": "9ade4946-cd24-4b2c-e722-123ebedafa07"
      },
      "source": [
        "from scipy.optimize import linprog \n",
        "\n",
        "obj=[-50,-120]\n",
        "\n",
        "lhs_ieq=[[10,30],[7000,2000],[1,1]]\n",
        "\n",
        "rhs_ieq=[1200,700000,110]\n",
        "\n",
        "bnd = [(0,float(\"inf\")),(0,float(\"inf\"))]\n",
        "\n",
        "sol=linprog(c=obj, A_ub=lhs_ieq, b_ub=rhs_ieq,bounds=bnd,method=\"simplex\")\n",
        "\n",
        "sol.x\n",
        "print(\"Wheat: \",sol.x[0])\n",
        "print(\"Barley: \",sol.x[1])"
      ],
      "execution_count": 2,
      "outputs": [
        {
          "output_type": "stream",
          "text": [
            "Wheat:  97.89473684210526\n",
            "Barley:  7.368421052631579\n"
          ],
          "name": "stdout"
        }
      ]
    }
  ]
}